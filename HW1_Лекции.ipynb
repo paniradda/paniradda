{
 "cells": [
  {
   "cell_type": "code",
   "execution_count": 1,
   "metadata": {},
   "outputs": [
    {
     "name": "stdout",
     "output_type": "stream",
     "text": [
      "Введите высоту, длину и ширину\n",
      "4\n",
      "10\n",
      "15\n",
      "Коробка №1\n"
     ]
    }
   ],
   "source": [
    "print ('Введите высоту, длину и ширину')\n",
    "width = input()\n",
    "lenght = input()\n",
    "height = input()\n",
    "width = int(width)\n",
    "lenght = int(lenght)\n",
    "height = int(height)\n",
    "if (width <= 15) and (lenght <= 15) and (height <= 15):\n",
    "    print ('Коробка №1')\n",
    "else:\n",
    "    if ((15 < width < 50) or (15< height < 50)) and (lenght <200):\n",
    "        print ('Коробка №2')\n",
    "    else:\n",
    "        if lenght >= 200:\n",
    "            print ('Ищите упаковку для лыж')\n",
    "        else:\n",
    "            print ('Стандартная коробка №3')"
   ]
  },
  {
   "cell_type": "code",
   "execution_count": 2,
   "metadata": {},
   "outputs": [
    {
     "name": "stdout",
     "output_type": "stream",
     "text": [
      "Введите высоту, длину и ширину\n",
      "30\n",
      "190\n",
      "60\n",
      "Коробка №2\n"
     ]
    }
   ],
   "source": [
    "print ('Введите высоту, длину и ширину')\n",
    "width = input()\n",
    "lenght = input()\n",
    "height = input()\n",
    "width = int(width)\n",
    "lenght = int(lenght)\n",
    "height = int(height)\n",
    "if (width <= 15) and (lenght <= 15) and (height <= 15):\n",
    "    print ('Коробка №1')\n",
    "else:\n",
    "    if ((15 < width < 50) or (15< height < 50)) and (lenght <200):\n",
    "        print ('Коробка №2')\n",
    "    else:\n",
    "        if lenght >= 200:\n",
    "            print ('Ищите упаковку для лыж')\n",
    "        else:\n",
    "            print ('Стандартная коробка №3')"
   ]
  },
  {
   "cell_type": "code",
   "execution_count": 3,
   "metadata": {},
   "outputs": [
    {
     "name": "stdout",
     "output_type": "stream",
     "text": [
      "Введите высоту, длину и ширину\n",
      "60\n",
      "210\n",
      "70\n",
      "Ищите упаковку для лыж\n"
     ]
    }
   ],
   "source": [
    "print ('Введите высоту, длину и ширину')\n",
    "width = input()\n",
    "lenght = input()\n",
    "height = input()\n",
    "width = int(width)\n",
    "lenght = int(lenght)\n",
    "height = int(height)\n",
    "if (width <= 15) and (lenght <= 15) and (height <= 15):\n",
    "    print ('Коробка №1')\n",
    "else:\n",
    "    if ((15 < width < 50) or (15< height < 50)) and (lenght <200):\n",
    "        print ('Коробка №2')\n",
    "    else:\n",
    "        if lenght >= 200:\n",
    "            print ('Ищите упаковку для лыж')\n",
    "        else:\n",
    "            print ('Стандартная коробка №3')"
   ]
  },
  {
   "cell_type": "code",
   "execution_count": 4,
   "metadata": {},
   "outputs": [
    {
     "name": "stdout",
     "output_type": "stream",
     "text": [
      "Введите высоту, длину и ширину\n",
      "15\n",
      "60\n",
      "90\n",
      "Стандартная коробка №3\n"
     ]
    }
   ],
   "source": [
    "print ('Введите высоту, длину и ширину')\n",
    "width = input()\n",
    "lenght = input()\n",
    "height = input()\n",
    "width = int(width)\n",
    "lenght = int(lenght)\n",
    "height = int(height)\n",
    "if (width <= 15) and (lenght <= 15) and (height <= 15):\n",
    "    print ('Коробка №1')\n",
    "else:\n",
    "    if ((15 < width < 50) or (15< height < 50)) and (lenght <200):\n",
    "        print ('Коробка №2')\n",
    "    else:\n",
    "        if lenght >= 200:\n",
    "            print ('Ищите упаковку для лыж')\n",
    "        else:\n",
    "            print ('Стандартная коробка №3')"
   ]
  },
  {
   "cell_type": "code",
   "execution_count": 5,
   "metadata": {},
   "outputs": [
    {
     "data": {
      "text/plain": [
       "'2019-08-27'"
      ]
     },
     "execution_count": 5,
     "metadata": {},
     "output_type": "execute_result"
    }
   ],
   "source": [
    "date = '2019-08-27T23:59:00.932'\n",
    "date[0:10]"
   ]
  },
  {
   "cell_type": "code",
   "execution_count": 6,
   "metadata": {},
   "outputs": [
    {
     "name": "stdout",
     "output_type": "stream",
     "text": [
      "\n",
      "салат :\n",
      "картофель , 500 гр.\n",
      "морковь , 250 гр.\n",
      "огурцы , 250 гр.\n",
      "горошек , 150 гр.\n",
      "майонез , 350 мл.\n",
      "\n",
      "пицца :\n",
      "сыр , 250 гр.\n",
      "томаты , 250 гр.\n",
      "тесто , 500 гр.\n",
      "бекон , 150 гр.\n",
      "колбаса , 150 гр.\n",
      "\n",
      "фруктовый десерт :\n",
      "хурма , 300 гр.\n",
      "киви , 300 гр.\n",
      "творог , 300 гр.\n",
      "сахар , 50 гр.\n",
      "мед , 250 мл.\n"
     ]
    }
   ],
   "source": [
    "cook_book = [\n",
    "  ['салат',\n",
    "      [\n",
    "        ['картофель', 100, 'гр.'],\n",
    "        ['морковь', 50, 'гр.'],\n",
    "        ['огурцы', 50, 'гр.'],\n",
    "        ['горошек', 30, 'гр.'],\n",
    "        ['майонез', 70, 'мл.'],\n",
    "      ]\n",
    "  ],\n",
    "  ['пицца',  \n",
    "      [\n",
    "        ['сыр', 50, 'гр.'],\n",
    "        ['томаты', 50, 'гр.'],\n",
    "        ['тесто', 100, 'гр.'],\n",
    "        ['бекон', 30, 'гр.'],\n",
    "        ['колбаса', 30, 'гр.'],\n",
    "        ['грибы', 20, 'гр.'],\n",
    "      ],\n",
    "  ],\n",
    "  ['фруктовый десерт',\n",
    "      [\n",
    "        ['хурма', 60, 'гр.'],\n",
    "        ['киви', 60, 'гр.'],\n",
    "        ['творог', 60, 'гр.'],\n",
    "        ['сахар', 10, 'гр.'],\n",
    "        ['мед', 50, 'мл.'],  \n",
    "      ]\n",
    "  ]\n",
    "]\n",
    "person = 5\n",
    "for i in range (3):\n",
    "    print()\n",
    "    print(cook_book[i][0], ':')\n",
    "    for j in range (5):\n",
    "        print(cook_book[i][1][j][0], ',', cook_book[i][1][j][1]*person, cook_book[i][1][j][2])"
   ]
  },
  {
   "cell_type": "code",
   "execution_count": 7,
   "metadata": {},
   "outputs": [
    {
     "name": "stdout",
     "output_type": "stream",
     "text": [
      "16\n"
     ]
    }
   ],
   "source": [
    "sys_stdin = [78, 68, 484, 3, 254, 90, 143, 78, 43, 42, 3053, 473, 5, 8593, 16, 3, 1454, 37, 96, 8547]\n",
    "m=sys_stdin[0]\n",
    "for i in sys_stdin:\n",
    "    if (i % 2==0) and (i < m):\n",
    "        m=i\n",
    "print(m)"
   ]
  },
  {
   "cell_type": "code",
   "execution_count": 8,
   "metadata": {},
   "outputs": [
    {
     "name": "stdout",
     "output_type": "stream",
     "text": [
      "ROI(vk) =  0.05102040816326525\n",
      "ROI(yandex) =  0.16993464052287588\n",
      "ROI(facebook) =  -0.0636363636363636\n",
      "ROI(adwords) =  0.02941176470588225\n",
      "ROI(twitter) =  -0.5416666666666667\n"
     ]
    }
   ],
   "source": [
    "results = {\n",
    "    'vk': {'revenue': 103, 'cost': 98},\n",
    "    'yandex': {'revenue': 179, 'cost': 153},\n",
    "    'facebook': {'revenue': 103, 'cost': 110},\n",
    "    'adwords': {'revenue': 35, 'cost': 34},\n",
    "    'twitter': {'revenue': 11, 'cost': 24},\n",
    "}\n",
    "res_vk = (results['vk']['revenue']/results['vk']['cost'] - 1)\n",
    "res_yandex = (results['yandex']['revenue']/results['yandex']['cost'] - 1)\n",
    "res_facebook = (results['facebook']['revenue']/results['facebook']['cost'] - 1)\n",
    "res_adwords = (results['adwords']['revenue']/results['adwords']['cost'] - 1)\n",
    "res_twitter = (results['twitter']['revenue']/results['twitter']['cost'] - 1)\n",
    "print('ROI(vk) = ', res_vk)\n",
    "print('ROI(yandex) = ', res_yandex)\n",
    "print('ROI(facebook) = ', res_facebook)\n",
    "print('ROI(adwords) = ', res_adwords)\n",
    "print('ROI(twitter) = ', res_twitter)"
   ]
  },
  {
   "cell_type": "code",
   "execution_count": null,
   "metadata": {},
   "outputs": [],
   "source": []
  }
 ],
 "metadata": {
  "kernelspec": {
   "display_name": "Python 3",
   "language": "python",
   "name": "python3"
  },
  "language_info": {
   "codemirror_mode": {
    "name": "ipython",
    "version": 3
   },
   "file_extension": ".py",
   "mimetype": "text/x-python",
   "name": "python",
   "nbconvert_exporter": "python",
   "pygments_lexer": "ipython3",
   "version": "3.8.3"
  }
 },
 "nbformat": 4,
 "nbformat_minor": 4
}
