{
 "cells": [
  {
   "cell_type": "code",
   "execution_count": 1,
   "metadata": {},
   "outputs": [
    {
     "name": "stdout",
     "output_type": "stream",
     "text": [
      "Информатика\n",
      "м\n"
     ]
    }
   ],
   "source": [
    "word = str(input())\n",
    "b=len(word)\n",
    "if b%2==0:\n",
    "    print(word[(b//2-1):(b//2+1)])\n",
    "else: \n",
    "    print(word[b//2])"
   ]
  },
  {
   "cell_type": "code",
   "execution_count": 2,
   "metadata": {},
   "outputs": [
    {
     "name": "stdout",
     "output_type": "stream",
     "text": [
      "python\n",
      "th\n"
     ]
    }
   ],
   "source": [
    "word = str(input())\n",
    "b=len(word)\n",
    "if b%2==0:\n",
    "    print(word[(b//2-1):(b//2+1)])\n",
    "else: \n",
    "    print(word[b//2])"
   ]
  },
  {
   "cell_type": "code",
   "execution_count": 3,
   "metadata": {},
   "outputs": [
    {
     "name": "stdout",
     "output_type": "stream",
     "text": [
      "Введите число:\n",
      "1\n",
      "Введите число:\n",
      "2\n",
      "Введите число:\n",
      "3\n",
      "Введите число:\n",
      "4\n",
      "Введите число:\n",
      "5\n",
      "Введите число:\n",
      "0\n",
      "15\n"
     ]
    }
   ],
   "source": [
    "S=0\n",
    "a=1\n",
    "while a!=0:\n",
    "    print('Введите число:')\n",
    "    a=int(input())\n",
    "    S=S+a\n",
    "print(S)"
   ]
  },
  {
   "cell_type": "code",
   "execution_count": 4,
   "metadata": {},
   "outputs": [
    {
     "name": "stdout",
     "output_type": "stream",
     "text": [
      "Введите число:\n",
      "0\n",
      "0\n"
     ]
    }
   ],
   "source": [
    "S=0\n",
    "a=1\n",
    "while a!=0:\n",
    "    print('Введите число:')\n",
    "    a=int(input())\n",
    "    S=S+a\n",
    "print(S)"
   ]
  },
  {
   "cell_type": "code",
   "execution_count": 5,
   "metadata": {},
   "outputs": [
    {
     "name": "stdout",
     "output_type": "stream",
     "text": [
      "Идеальные пары:\n",
      "Alex и Emma\n",
      "Arthur и Kate\n",
      "John и Kira\n",
      "Peter и Liza\n",
      "Richard и Trisha\n"
     ]
    }
   ],
   "source": [
    "boys = ['Peter', 'Alex', 'John', 'Arthur', 'Richard']\n",
    "girls = ['Kate', 'Liza', 'Kira', 'Emma', 'Trisha']\n",
    "if len(boys)!=len(girls):\n",
    "    print('Внимание, кто-то может остаться без пары!')\n",
    "else: \n",
    "    boys.sort()\n",
    "    girls.sort()\n",
    "    print('Идеальные пары:')\n",
    "    for i in range(len(boys)):\n",
    "        print(boys[i], 'и', girls[i])"
   ]
  },
  {
   "cell_type": "code",
   "execution_count": 6,
   "metadata": {},
   "outputs": [
    {
     "name": "stdout",
     "output_type": "stream",
     "text": [
      "Внимание, кто-то может остаться без пары!\n"
     ]
    }
   ],
   "source": [
    "boys = ['Peter', 'Alex', 'John', 'Arthur', 'Richard', 'Michael']\n",
    "girls = ['Kate', 'Liza', 'Kira', 'Emma', 'Trisha']\n",
    "if len(boys)!=len(girls):\n",
    "    print('Внимание, кто-то может остаться без пары!')\n",
    "else: \n",
    "    boys.sort()\n",
    "    girls.sort()\n",
    "    print('Идеальные пары:')\n",
    "    for i in range(len(boys)):\n",
    "        print(boys[i], 'и', girls[i])"
   ]
  },
  {
   "cell_type": "code",
   "execution_count": 7,
   "metadata": {},
   "outputs": [
    {
     "name": "stdout",
     "output_type": "stream",
     "text": [
      "Средняя температура в странах:\n",
      "Thailand 23.857142857142854\n",
      "Germany 13.799999999999997\n",
      "Russia 3.7142857142857166\n",
      "Poland 11.999999999999996\n"
     ]
    }
   ],
   "source": [
    "countries_temperature = [\n",
    "    ['Thailand', [75.2, 77, 78.8, 73.4, 68, 75.2, 77]],\n",
    "    ['Germany', [57.2, 55.4, 59, 59, 53.6]],\n",
    "    ['Russia', [35.6, 37.4, 39.2, 41, 42.8, 39.2, 35.6]],\n",
    "    ['Poland', [50, 50, 53.6, 57.2, 55.4, 55.4]]\n",
    "]\n",
    "Thailand_temp = ((sum(countries_temperature[0][1])/len(countries_temperature[0][1]))-32)/1.8\n",
    "Germany_temp = ((sum(countries_temperature[1][1])/len(countries_temperature[1][1]))-32)/1.8\n",
    "Russia_temp = ((sum(countries_temperature[2][1])/len(countries_temperature[2][1]))-32)/1.8\n",
    "Poland_temp = ((sum(countries_temperature[3][1])/len(countries_temperature[3][1]))-32)/1.8\n",
    "print('Средняя температура в странах:')\n",
    "print('Thailand', Thailand_temp)\n",
    "print('Germany', Germany_temp)\n",
    "print('Russia', Russia_temp)\n",
    "print('Poland', Poland_temp)"
   ]
  },
  {
   "cell_type": "code",
   "execution_count": null,
   "metadata": {},
   "outputs": [],
   "source": []
  }
 ],
 "metadata": {
  "kernelspec": {
   "display_name": "Python 3",
   "language": "python",
   "name": "python3"
  },
  "language_info": {
   "codemirror_mode": {
    "name": "ipython",
    "version": 3
   },
   "file_extension": ".py",
   "mimetype": "text/x-python",
   "name": "python",
   "nbconvert_exporter": "python",
   "pygments_lexer": "ipython3",
   "version": "3.8.3"
  }
 },
 "nbformat": 4,
 "nbformat_minor": 4
}
