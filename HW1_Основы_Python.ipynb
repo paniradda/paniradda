{
 "cells": [
  {
   "cell_type": "code",
   "execution_count": 1,
   "metadata": {},
   "outputs": [
    {
     "name": "stdout",
     "output_type": "stream",
     "text": [
      "Фраза 1 длиннее фразы 2\n"
     ]
    }
   ],
   "source": [
    "phrase_1 = 'Насколько проще было бы писать программы, если бы не заказчики'\n",
    "phrase_2 = '640Кб должно хватить для любых задач. Билл Гейтс (по легенде)'\n",
    "a=len(phrase_1)\n",
    "b=len(phrase_2)\n",
    "if a < b:\n",
    "    print('Фраза 2 длиннее фразы 1')\n",
    "elif a > b:\n",
    "    print('Фраза 1 длиннее фразы 2')\n",
    "else: \n",
    "    print('Фразы равной длины')"
   ]
  },
  {
   "cell_type": "code",
   "execution_count": 2,
   "metadata": {},
   "outputs": [
    {
     "name": "stdout",
     "output_type": "stream",
     "text": [
      "Фраза 2 длиннее фразы 1\n"
     ]
    }
   ],
   "source": [
    "phrase_1 = '640Кб должно хватить для любых задач. Билл Гейтс (по легенде)'\n",
    "phrase_2 = 'Насколько проще было бы писать программы, если бы не заказчики'\n",
    "a=len(phrase_1)\n",
    "b=len(phrase_2)\n",
    "if a < b:\n",
    "    print('Фраза 2 длиннее фразы 1')\n",
    "elif a > b:\n",
    "    print('Фраза 1 длиннее фразы 2')\n",
    "else: \n",
    "    print('Фразы равной длины')"
   ]
  },
  {
   "cell_type": "code",
   "execution_count": 3,
   "metadata": {},
   "outputs": [
    {
     "name": "stdout",
     "output_type": "stream",
     "text": [
      "Фразы равной длины\n"
     ]
    }
   ],
   "source": [
    "phrase_1 = 'Насколько проще было бы писать программы, если бы не заказчики'\n",
    "phrase_2 = 'Насколько проще было бы писать программы, если бы не заказчики'\n",
    "a=len(phrase_1)\n",
    "b=len(phrase_2)\n",
    "if a < b:\n",
    "    print('Фраза 2 длиннее фразы 1')\n",
    "elif a > b:\n",
    "    print('Фраза 1 длиннее фразы 2')\n",
    "else: \n",
    "    print('Фразы равной длины')"
   ]
  },
  {
   "cell_type": "code",
   "execution_count": 4,
   "metadata": {},
   "outputs": [
    {
     "name": "stdout",
     "output_type": "stream",
     "text": [
      "2020\n",
      "Високосный год\n"
     ]
    }
   ],
   "source": [
    "year = int(input())\n",
    "if (year % 4 != 0) or ((year % 100 == 0)and (year % 400 != 0)):\n",
    "    print('Обычный год')\n",
    "else:\n",
    "    print('Високосный год')"
   ]
  },
  {
   "cell_type": "code",
   "execution_count": 5,
   "metadata": {},
   "outputs": [
    {
     "name": "stdout",
     "output_type": "stream",
     "text": [
      "1700\n",
      "Обычный год\n"
     ]
    }
   ],
   "source": [
    "year = int(input())\n",
    "if (year % 4 != 0) or ((year % 100 == 0)and (year % 400 != 0)):\n",
    "    print('Обычный год')\n",
    "else:\n",
    "    print('Високосный год')"
   ]
  },
  {
   "cell_type": "code",
   "execution_count": 6,
   "metadata": {},
   "outputs": [
    {
     "name": "stdout",
     "output_type": "stream",
     "text": [
      "2018\n",
      "Обычный год\n"
     ]
    }
   ],
   "source": [
    "year = int(input())\n",
    "if (year % 4 != 0) or ((year % 100 == 0)and (year % 400 != 0)):\n",
    "    print('Обычный год')\n",
    "else:\n",
    "    print('Високосный год')"
   ]
  },
  {
   "cell_type": "code",
   "execution_count": 7,
   "metadata": {},
   "outputs": [
    {
     "name": "stdout",
     "output_type": "stream",
     "text": [
      "Введите день\n",
      "16\n",
      "Введите месяц\n",
      "Январь\n",
      "Результат:\n",
      "Ваш знак зодиака:Козерог\n"
     ]
    }
   ],
   "source": [
    "print('Введите день')\n",
    "day=int(input())\n",
    "print('Введите месяц')\n",
    "month=str(input())\n",
    "print('Результат:')\n",
    "if (21<=day<=31 and month=='Март') or (month=='Апрель' and 1<=day<=19):\n",
    "   print(\"Ваш знак зодиака:Овен\")\n",
    "elif (20<=day<=30 and month=='Апрель') or (month=='Май' and 1<=day<=20):\n",
    "   print(\"Ваш знак зодиака:Телец\")\n",
    "elif (21<=day<=31 and month=='Май') or (month=='Июнь' and 1<=day<=21):\n",
    "   print(\"Ваш знак зодиака:Близнецы\")\n",
    "elif (22<=day<=30 and month=='Июнь') or (month=='Июль' and  1<=day<=22):\n",
    "   print(\"Ваш знак зодиака:Рак\")\n",
    "elif (23<=day<=31 and month=='Июль') or (month=='Август' and 1<=day<=22):\n",
    "   print(\"Ваш знак зодиака:Лев\")\n",
    "elif (23<=day<=31 and month=='Август') or (month=='Сентябрь' and 1<=day<=22):\n",
    "   print(\"Ваш знак зодиака:Дева\")\n",
    "elif (23<=day<=30 and month=='Сентябрь') or (month=='Октябрь' and day>=1 and day<=23):\n",
    "   print(\"Ваш знак зодиака:Весы\")\n",
    "elif (24<=day<=31 and month=='Октябрь') or (month=='Ноябрь' and 1<=day<=22):\n",
    "   print(\"Ваш знак зодиака:Скорпион\")\n",
    "elif (23<=day<=30 and month=='Ноябрь') or (month=='Декабрь' and 1<=day<=21):\n",
    "   print(\"Ваш знак зодиака:Стрелец\")\n",
    "elif (22<=day<=31 and month=='Декабрь') or (month=='Январь' and 1<=day<=20):\n",
    "   print(\"Ваш знак зодиака:Козерог\")\n",
    "elif (21<=day<=31 and month=='Январь') or (month=='Февраль' and 1<=day<=18):\n",
    "   print(\"Ваш знак зодиака:Водолей\")\n",
    "elif (19<=day<=29 and month=='Февраль') or (month=='Март' and 1<=day<=20):\n",
    "   print(\"Ваш знак зодиака:Рыбы\")"
   ]
  },
  {
   "cell_type": "code",
   "execution_count": 8,
   "metadata": {},
   "outputs": [
    {
     "name": "stdout",
     "output_type": "stream",
     "text": [
      "Введите высоту, длину и ширину\n",
      "10\n",
      "7\n",
      "15\n",
      "Коробка №1\n"
     ]
    }
   ],
   "source": [
    "print ('Введите высоту, длину и ширину')\n",
    "width = input()\n",
    "lenght = input()\n",
    "height = input()\n",
    "width = int(width)\n",
    "lenght = int(lenght)\n",
    "height = int(height)\n",
    "if (width <= 15) and (lenght <= 15) and (height <= 15):\n",
    "    print ('Коробка №1')\n",
    "else:\n",
    "    if ((15 < width < 50) or (15< height < 50)) and (lenght <200):\n",
    "        print ('Коробка №2')\n",
    "    else:\n",
    "        if lenght >= 200:\n",
    "            print ('Упаковка для лыж')\n",
    "        else:\n",
    "            print ('Стандартная коробка №3')"
   ]
  },
  {
   "cell_type": "code",
   "execution_count": 9,
   "metadata": {},
   "outputs": [
    {
     "name": "stdout",
     "output_type": "stream",
     "text": [
      "Введите высоту, длину и ширину\n",
      "40\n",
      "195\n",
      "90\n",
      "Коробка №2\n"
     ]
    }
   ],
   "source": [
    "print ('Введите высоту, длину и ширину')\n",
    "width = input()\n",
    "lenght = input()\n",
    "height = input()\n",
    "width = int(width)\n",
    "lenght = int(lenght)\n",
    "height = int(height)\n",
    "if (width <= 15) and (lenght <= 15) and (height <= 15):\n",
    "    print ('Коробка №1')\n",
    "else:\n",
    "    if ((15 < width < 50) or (15< height < 50)) and (lenght <200):\n",
    "        print ('Коробка №2')\n",
    "    else:\n",
    "        if lenght >= 200:\n",
    "            print ('Упаковка для лыж')\n",
    "        else:\n",
    "            print ('Стандартная коробка №3')"
   ]
  },
  {
   "cell_type": "code",
   "execution_count": 10,
   "metadata": {},
   "outputs": [
    {
     "name": "stdout",
     "output_type": "stream",
     "text": [
      "Введите высоту, длину и ширину\n",
      "60\n",
      "80\n",
      "90\n",
      "Стандартная коробка №3\n"
     ]
    }
   ],
   "source": [
    "print ('Введите высоту, длину и ширину')\n",
    "width = input()\n",
    "lenght = input()\n",
    "height = input()\n",
    "width = int(width)\n",
    "lenght = int(lenght)\n",
    "height = int(height)\n",
    "if (width <= 15) and (lenght <= 15) and (height <= 15):\n",
    "    print ('Коробка №1')\n",
    "else:\n",
    "    if ((15 < width < 50) or (15< height < 50)) and (lenght <200):\n",
    "        print ('Коробка №2')\n",
    "    else:\n",
    "        if lenght >= 200:\n",
    "            print ('Упаковка для лыж')\n",
    "        else:\n",
    "            print ('Стандартная коробка №3')"
   ]
  },
  {
   "cell_type": "code",
   "execution_count": 11,
   "metadata": {},
   "outputs": [
    {
     "name": "stdout",
     "output_type": "stream",
     "text": [
      "Введите высоту, длину и ширину\n",
      "80\n",
      "210\n",
      "7\n",
      "Упаковка для лыж\n"
     ]
    }
   ],
   "source": [
    "print ('Введите высоту, длину и ширину')\n",
    "width = input()\n",
    "lenght = input()\n",
    "height = input()\n",
    "width = int(width)\n",
    "lenght = int(lenght)\n",
    "height = int(height)\n",
    "if (width <= 15) and (lenght <= 15) and (height <= 15):\n",
    "    print ('Коробка №1')\n",
    "else:\n",
    "    if ((15 < width < 50) or (15< height < 50)) and (lenght <200):\n",
    "        print ('Коробка №2')\n",
    "    else:\n",
    "        if lenght >= 200:\n",
    "            print ('Упаковка для лыж')\n",
    "        else:\n",
    "            print ('Стандартная коробка №3')"
   ]
  },
  {
   "cell_type": "code",
   "execution_count": 12,
   "metadata": {},
   "outputs": [
    {
     "name": "stdout",
     "output_type": "stream",
     "text": [
      "Введите номер проедного билета:\n",
      "448880\n",
      "Счастливый билет\n"
     ]
    }
   ],
   "source": [
    "print('Введите номер проедного билета:')\n",
    "number=input()\n",
    "if sum([int(char) for char in number[:3]]) == sum([int(char) for char in number[-3:]]):\n",
    "    print('Счастливый билет')\n",
    "else:\n",
    "    print('Несчастливый билет')"
   ]
  },
  {
   "cell_type": "code",
   "execution_count": 13,
   "metadata": {},
   "outputs": [
    {
     "name": "stdout",
     "output_type": "stream",
     "text": [
      "Введите тип фигуры:Круг\n",
      "Введите радиус круга, r = 5.5\n",
      "Площадь фигуры: 95.03317777109125\n"
     ]
    }
   ],
   "source": [
    "import math\n",
    "fig=str(input('Введите тип фигуры:')) \n",
    "if fig=='Круг':      \n",
    "    r=float(input('Введите радиус круга, r = '))      \n",
    "    S=math.pi*(r**2)\n",
    "elif fig=='Треугольник':       \n",
    "    a=float(input('Введите длину стороны а = '))      \n",
    "    b=float(input('Введите длину стороны b = '))      \n",
    "    c=float(input('Введите длину стороны c = '))      \n",
    "    P=(a+b+c)/2      \n",
    "    S=math.sqrt((P*(P-a)*(P-b)*(P-c)))\n",
    "elif fig=='Прямоугольник':       \n",
    "    a=float(input('Введите сторону a = '))      \n",
    "    b=float(input('Введите сторону b = '))      \n",
    "    S=a*b\n",
    "print ('Площадь фигуры:', S)"
   ]
  },
  {
   "cell_type": "code",
   "execution_count": 14,
   "metadata": {},
   "outputs": [
    {
     "name": "stdout",
     "output_type": "stream",
     "text": [
      "Введите тип фигуры:Треугольник\n",
      "Введите длину стороны а = 2\n",
      "Введите длину стороны b = 3\n",
      "Введите длину стороны c = 4\n",
      "Площадь фигуры: 2.9047375096555625\n"
     ]
    }
   ],
   "source": [
    "import math\n",
    "fig=str(input('Введите тип фигуры:')) \n",
    "if fig=='Круг':      \n",
    "    r=float(input('Введите радиус круга, r = '))      \n",
    "    S=math.pi*(r**2)\n",
    "elif fig=='Треугольник':       \n",
    "    a=float(input('Введите длину стороны а = '))      \n",
    "    b=float(input('Введите длину стороны b = '))      \n",
    "    c=float(input('Введите длину стороны c = '))      \n",
    "    P=(a+b+c)/2      \n",
    "    S=math.sqrt((P*(P-a)*(P-b)*(P-c)))\n",
    "elif fig=='Прямоугольник':       \n",
    "    a=float(input('Введите сторону a = '))      \n",
    "    b=float(input('Введите сторону b = '))      \n",
    "    S=a*b\n",
    "print ('Площадь фигуры:', S)"
   ]
  },
  {
   "cell_type": "code",
   "execution_count": 16,
   "metadata": {},
   "outputs": [
    {
     "name": "stdout",
     "output_type": "stream",
     "text": [
      "Введите тип фигуры:Прямоугольник\n",
      "Введите сторону a = 4\n",
      "Введите сторону b = 5\n",
      "Площадь фигуры: 20.0\n"
     ]
    }
   ],
   "source": [
    "import math\n",
    "fig=str(input('Введите тип фигуры:')) \n",
    "if fig=='Круг':      \n",
    "    r=float(input('Введите радиус круга, r = '))      \n",
    "    S=math.pi*(r**2)\n",
    "elif fig=='Треугольник':       \n",
    "    a=float(input('Введите длину стороны а = '))      \n",
    "    b=float(input('Введите длину стороны b = '))      \n",
    "    c=float(input('Введите длину стороны c = '))      \n",
    "    P=(a+b+c)/2      \n",
    "    S=math.sqrt((P*(P-a)*(P-b)*(P-c)))\n",
    "elif fig=='Прямоугольник':       \n",
    "    a=float(input('Введите сторону a = '))      \n",
    "    b=float(input('Введите сторону b = '))      \n",
    "    S=a*b\n",
    "print ('Площадь фигуры:', S)"
   ]
  },
  {
   "cell_type": "code",
   "execution_count": null,
   "metadata": {},
   "outputs": [],
   "source": []
  }
 ],
 "metadata": {
  "kernelspec": {
   "display_name": "Python 3",
   "language": "python",
   "name": "python3"
  },
  "language_info": {
   "codemirror_mode": {
    "name": "ipython",
    "version": 3
   },
   "file_extension": ".py",
   "mimetype": "text/x-python",
   "name": "python",
   "nbconvert_exporter": "python",
   "pygments_lexer": "ipython3",
   "version": "3.8.3"
  }
 },
 "nbformat": 4,
 "nbformat_minor": 4
}
